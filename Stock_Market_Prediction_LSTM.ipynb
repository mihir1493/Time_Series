{
 "cells": [
  {
   "cell_type": "code",
   "execution_count": 1,
   "metadata": {},
   "outputs": [
    {
     "name": "stderr",
     "output_type": "stream",
     "text": [
      "C:\\Users\\LENOVO\\Anaconda3\\lib\\site-packages\\pandas_datareader\\compat\\__init__.py:7: FutureWarning: pandas.util.testing is deprecated. Use the functions in the public API at pandas.testing instead.\n",
      "  from pandas.util.testing import assert_frame_equal\n"
     ]
    }
   ],
   "source": [
    "import pandas as pd\n",
    "import pandas_datareader as pdr"
   ]
  },
  {
   "cell_type": "code",
   "execution_count": 2,
   "metadata": {},
   "outputs": [],
   "source": [
    "df = pd.read_csv('reliance.csv')"
   ]
  },
  {
   "cell_type": "code",
   "execution_count": 3,
   "metadata": {},
   "outputs": [
    {
     "data": {
      "text/html": [
       "<div>\n",
       "<style scoped>\n",
       "    .dataframe tbody tr th:only-of-type {\n",
       "        vertical-align: middle;\n",
       "    }\n",
       "\n",
       "    .dataframe tbody tr th {\n",
       "        vertical-align: top;\n",
       "    }\n",
       "\n",
       "    .dataframe thead th {\n",
       "        text-align: right;\n",
       "    }\n",
       "</style>\n",
       "<table border=\"1\" class=\"dataframe\">\n",
       "  <thead>\n",
       "    <tr style=\"text-align: right;\">\n",
       "      <th></th>\n",
       "      <th>Date</th>\n",
       "      <th>Symbol</th>\n",
       "      <th>Series</th>\n",
       "      <th>Prev Close</th>\n",
       "      <th>Open</th>\n",
       "      <th>High</th>\n",
       "      <th>Low</th>\n",
       "      <th>Last</th>\n",
       "      <th>Close</th>\n",
       "      <th>VWAP</th>\n",
       "      <th>Volume</th>\n",
       "      <th>Turnover</th>\n",
       "      <th>Trades</th>\n",
       "      <th>Deliverable Volume</th>\n",
       "      <th>%Deliverble</th>\n",
       "    </tr>\n",
       "  </thead>\n",
       "  <tbody>\n",
       "    <tr>\n",
       "      <th>0</th>\n",
       "      <td>2000-01-03</td>\n",
       "      <td>RELIANCE</td>\n",
       "      <td>EQ</td>\n",
       "      <td>233.05</td>\n",
       "      <td>237.50</td>\n",
       "      <td>251.70</td>\n",
       "      <td>237.50</td>\n",
       "      <td>251.70</td>\n",
       "      <td>251.70</td>\n",
       "      <td>249.37</td>\n",
       "      <td>4456424</td>\n",
       "      <td>1.111319e+14</td>\n",
       "      <td>NaN</td>\n",
       "      <td>NaN</td>\n",
       "      <td>NaN</td>\n",
       "    </tr>\n",
       "    <tr>\n",
       "      <th>1</th>\n",
       "      <td>2000-01-04</td>\n",
       "      <td>RELIANCE</td>\n",
       "      <td>EQ</td>\n",
       "      <td>251.70</td>\n",
       "      <td>258.40</td>\n",
       "      <td>271.85</td>\n",
       "      <td>251.30</td>\n",
       "      <td>271.85</td>\n",
       "      <td>271.85</td>\n",
       "      <td>263.52</td>\n",
       "      <td>9487878</td>\n",
       "      <td>2.500222e+14</td>\n",
       "      <td>NaN</td>\n",
       "      <td>NaN</td>\n",
       "      <td>NaN</td>\n",
       "    </tr>\n",
       "    <tr>\n",
       "      <th>2</th>\n",
       "      <td>2000-01-05</td>\n",
       "      <td>RELIANCE</td>\n",
       "      <td>EQ</td>\n",
       "      <td>271.85</td>\n",
       "      <td>256.65</td>\n",
       "      <td>287.90</td>\n",
       "      <td>256.65</td>\n",
       "      <td>286.75</td>\n",
       "      <td>282.50</td>\n",
       "      <td>274.79</td>\n",
       "      <td>26833684</td>\n",
       "      <td>7.373697e+14</td>\n",
       "      <td>NaN</td>\n",
       "      <td>NaN</td>\n",
       "      <td>NaN</td>\n",
       "    </tr>\n",
       "    <tr>\n",
       "      <th>3</th>\n",
       "      <td>2000-01-06</td>\n",
       "      <td>RELIANCE</td>\n",
       "      <td>EQ</td>\n",
       "      <td>282.50</td>\n",
       "      <td>289.00</td>\n",
       "      <td>300.70</td>\n",
       "      <td>289.00</td>\n",
       "      <td>293.50</td>\n",
       "      <td>294.35</td>\n",
       "      <td>295.45</td>\n",
       "      <td>15682286</td>\n",
       "      <td>4.633254e+14</td>\n",
       "      <td>NaN</td>\n",
       "      <td>NaN</td>\n",
       "      <td>NaN</td>\n",
       "    </tr>\n",
       "    <tr>\n",
       "      <th>4</th>\n",
       "      <td>2000-01-07</td>\n",
       "      <td>RELIANCE</td>\n",
       "      <td>EQ</td>\n",
       "      <td>294.35</td>\n",
       "      <td>295.00</td>\n",
       "      <td>317.90</td>\n",
       "      <td>293.00</td>\n",
       "      <td>314.50</td>\n",
       "      <td>314.55</td>\n",
       "      <td>308.91</td>\n",
       "      <td>19870977</td>\n",
       "      <td>6.138388e+14</td>\n",
       "      <td>NaN</td>\n",
       "      <td>NaN</td>\n",
       "      <td>NaN</td>\n",
       "    </tr>\n",
       "  </tbody>\n",
       "</table>\n",
       "</div>"
      ],
      "text/plain": [
       "         Date    Symbol Series  Prev Close    Open    High     Low    Last  \\\n",
       "0  2000-01-03  RELIANCE     EQ      233.05  237.50  251.70  237.50  251.70   \n",
       "1  2000-01-04  RELIANCE     EQ      251.70  258.40  271.85  251.30  271.85   \n",
       "2  2000-01-05  RELIANCE     EQ      271.85  256.65  287.90  256.65  286.75   \n",
       "3  2000-01-06  RELIANCE     EQ      282.50  289.00  300.70  289.00  293.50   \n",
       "4  2000-01-07  RELIANCE     EQ      294.35  295.00  317.90  293.00  314.50   \n",
       "\n",
       "    Close    VWAP    Volume      Turnover  Trades  Deliverable Volume  \\\n",
       "0  251.70  249.37   4456424  1.111319e+14     NaN                 NaN   \n",
       "1  271.85  263.52   9487878  2.500222e+14     NaN                 NaN   \n",
       "2  282.50  274.79  26833684  7.373697e+14     NaN                 NaN   \n",
       "3  294.35  295.45  15682286  4.633254e+14     NaN                 NaN   \n",
       "4  314.55  308.91  19870977  6.138388e+14     NaN                 NaN   \n",
       "\n",
       "   %Deliverble  \n",
       "0          NaN  \n",
       "1          NaN  \n",
       "2          NaN  \n",
       "3          NaN  \n",
       "4          NaN  "
      ]
     },
     "execution_count": 3,
     "metadata": {},
     "output_type": "execute_result"
    }
   ],
   "source": [
    "df.head()"
   ]
  },
  {
   "cell_type": "code",
   "execution_count": 4,
   "metadata": {},
   "outputs": [
    {
     "data": {
      "text/plain": [
       "Date                     0\n",
       "Symbol                   0\n",
       "Series                   0\n",
       "Prev Close               0\n",
       "Open                     0\n",
       "High                     0\n",
       "Low                      0\n",
       "Last                     0\n",
       "Close                    0\n",
       "VWAP                     0\n",
       "Volume                   0\n",
       "Turnover                 0\n",
       "Trades                2851\n",
       "Deliverable Volume     514\n",
       "%Deliverble            514\n",
       "dtype: int64"
      ]
     },
     "execution_count": 4,
     "metadata": {},
     "output_type": "execute_result"
    }
   ],
   "source": [
    "df.isna().sum()"
   ]
  },
  {
   "cell_type": "code",
   "execution_count": 5,
   "metadata": {},
   "outputs": [],
   "source": [
    "df2 = df.drop(['Trades', 'Deliverable Volume', '%Deliverble'], axis = 1)"
   ]
  },
  {
   "cell_type": "code",
   "execution_count": 6,
   "metadata": {},
   "outputs": [
    {
     "data": {
      "text/plain": [
       "(5059, 12)"
      ]
     },
     "execution_count": 6,
     "metadata": {},
     "output_type": "execute_result"
    }
   ],
   "source": [
    "df2.shape"
   ]
  },
  {
   "cell_type": "code",
   "execution_count": 7,
   "metadata": {},
   "outputs": [
    {
     "data": {
      "text/html": [
       "<div>\n",
       "<style scoped>\n",
       "    .dataframe tbody tr th:only-of-type {\n",
       "        vertical-align: middle;\n",
       "    }\n",
       "\n",
       "    .dataframe tbody tr th {\n",
       "        vertical-align: top;\n",
       "    }\n",
       "\n",
       "    .dataframe thead th {\n",
       "        text-align: right;\n",
       "    }\n",
       "</style>\n",
       "<table border=\"1\" class=\"dataframe\">\n",
       "  <thead>\n",
       "    <tr style=\"text-align: right;\">\n",
       "      <th></th>\n",
       "      <th>Date</th>\n",
       "      <th>Symbol</th>\n",
       "      <th>Series</th>\n",
       "      <th>Prev Close</th>\n",
       "      <th>Open</th>\n",
       "      <th>High</th>\n",
       "      <th>Low</th>\n",
       "      <th>Last</th>\n",
       "      <th>Close</th>\n",
       "      <th>VWAP</th>\n",
       "      <th>Volume</th>\n",
       "      <th>Turnover</th>\n",
       "    </tr>\n",
       "  </thead>\n",
       "  <tbody>\n",
       "    <tr>\n",
       "      <th>5054</th>\n",
       "      <td>2020-04-24</td>\n",
       "      <td>RELIANCE</td>\n",
       "      <td>EQ</td>\n",
       "      <td>1370.90</td>\n",
       "      <td>1350.15</td>\n",
       "      <td>1494.95</td>\n",
       "      <td>1347.20</td>\n",
       "      <td>1425.8</td>\n",
       "      <td>1417.00</td>\n",
       "      <td>1431.67</td>\n",
       "      <td>61711388</td>\n",
       "      <td>8.835030e+15</td>\n",
       "    </tr>\n",
       "    <tr>\n",
       "      <th>5055</th>\n",
       "      <td>2020-04-27</td>\n",
       "      <td>RELIANCE</td>\n",
       "      <td>EQ</td>\n",
       "      <td>1417.00</td>\n",
       "      <td>1434.00</td>\n",
       "      <td>1475.00</td>\n",
       "      <td>1423.00</td>\n",
       "      <td>1431.0</td>\n",
       "      <td>1429.75</td>\n",
       "      <td>1448.31</td>\n",
       "      <td>26736512</td>\n",
       "      <td>3.872270e+15</td>\n",
       "    </tr>\n",
       "    <tr>\n",
       "      <th>5056</th>\n",
       "      <td>2020-04-28</td>\n",
       "      <td>RELIANCE</td>\n",
       "      <td>EQ</td>\n",
       "      <td>1429.75</td>\n",
       "      <td>1450.00</td>\n",
       "      <td>1455.45</td>\n",
       "      <td>1392.15</td>\n",
       "      <td>1430.0</td>\n",
       "      <td>1428.15</td>\n",
       "      <td>1421.22</td>\n",
       "      <td>35866381</td>\n",
       "      <td>5.097411e+15</td>\n",
       "    </tr>\n",
       "    <tr>\n",
       "      <th>5057</th>\n",
       "      <td>2020-04-29</td>\n",
       "      <td>RELIANCE</td>\n",
       "      <td>EQ</td>\n",
       "      <td>1428.15</td>\n",
       "      <td>1444.90</td>\n",
       "      <td>1453.65</td>\n",
       "      <td>1420.00</td>\n",
       "      <td>1427.0</td>\n",
       "      <td>1426.95</td>\n",
       "      <td>1436.42</td>\n",
       "      <td>17141540</td>\n",
       "      <td>2.462240e+15</td>\n",
       "    </tr>\n",
       "    <tr>\n",
       "      <th>5058</th>\n",
       "      <td>2020-04-30</td>\n",
       "      <td>RELIANCE</td>\n",
       "      <td>EQ</td>\n",
       "      <td>1426.95</td>\n",
       "      <td>1453.95</td>\n",
       "      <td>1494.95</td>\n",
       "      <td>1438.05</td>\n",
       "      <td>1464.0</td>\n",
       "      <td>1466.00</td>\n",
       "      <td>1467.88</td>\n",
       "      <td>32617901</td>\n",
       "      <td>4.787926e+15</td>\n",
       "    </tr>\n",
       "  </tbody>\n",
       "</table>\n",
       "</div>"
      ],
      "text/plain": [
       "            Date    Symbol Series  Prev Close     Open     High      Low  \\\n",
       "5054  2020-04-24  RELIANCE     EQ     1370.90  1350.15  1494.95  1347.20   \n",
       "5055  2020-04-27  RELIANCE     EQ     1417.00  1434.00  1475.00  1423.00   \n",
       "5056  2020-04-28  RELIANCE     EQ     1429.75  1450.00  1455.45  1392.15   \n",
       "5057  2020-04-29  RELIANCE     EQ     1428.15  1444.90  1453.65  1420.00   \n",
       "5058  2020-04-30  RELIANCE     EQ     1426.95  1453.95  1494.95  1438.05   \n",
       "\n",
       "        Last    Close     VWAP    Volume      Turnover  \n",
       "5054  1425.8  1417.00  1431.67  61711388  8.835030e+15  \n",
       "5055  1431.0  1429.75  1448.31  26736512  3.872270e+15  \n",
       "5056  1430.0  1428.15  1421.22  35866381  5.097411e+15  \n",
       "5057  1427.0  1426.95  1436.42  17141540  2.462240e+15  \n",
       "5058  1464.0  1466.00  1467.88  32617901  4.787926e+15  "
      ]
     },
     "execution_count": 7,
     "metadata": {},
     "output_type": "execute_result"
    }
   ],
   "source": [
    "df2.tail()"
   ]
  },
  {
   "cell_type": "code",
   "execution_count": 8,
   "metadata": {},
   "outputs": [],
   "source": [
    "df3 = df2.reset_index()['Close']"
   ]
  },
  {
   "cell_type": "code",
   "execution_count": 9,
   "metadata": {},
   "outputs": [
    {
     "data": {
      "text/plain": [
       "0    251.70\n",
       "1    271.85\n",
       "2    282.50\n",
       "3    294.35\n",
       "4    314.55\n",
       "Name: Close, dtype: float64"
      ]
     },
     "execution_count": 9,
     "metadata": {},
     "output_type": "execute_result"
    }
   ],
   "source": [
    "df3.head()"
   ]
  },
  {
   "cell_type": "code",
   "execution_count": 10,
   "metadata": {},
   "outputs": [],
   "source": [
    "import matplotlib.pyplot as plt\n",
    "%matplotlib inline\n",
    "import numpy as np"
   ]
  },
  {
   "cell_type": "code",
   "execution_count": 11,
   "metadata": {},
   "outputs": [
    {
     "data": {
      "text/plain": [
       "[<matplotlib.lines.Line2D at 0x28cb10dd688>]"
      ]
     },
     "execution_count": 11,
     "metadata": {},
     "output_type": "execute_result"
    },
    {
     "data": {
      "image/png": "[encoded data removed]",
      "text/plain": [
       "<Figure size 432x288 with 1 Axes>"
      ]
     },
     "metadata": {
      "needs_background": "light"
     },
     "output_type": "display_data"
    }
   ],
   "source": [
    "plt.plot(df3)"
   ]
  },
  {
   "cell_type": "code",
   "execution_count": 12,
   "metadata": {},
   "outputs": [],
   "source": [
    "from sklearn.preprocessing import MinMaxScaler\n",
    "scaler=MinMaxScaler(feature_range=(0,1))\n",
    "df3 =scaler.fit_transform(np.array(df3).reshape(-1,1))"
   ]
  },
  {
   "cell_type": "code",
   "execution_count": 13,
   "metadata": {},
   "outputs": [],
   "source": [
    "#Splitting data into training data and test data\n",
    "training_size = int(len(df3)*0.65)\n",
    "test_data = int(len(df3) - training_size)\n",
    "train_data, test_data = df3[0:training_size,:], df3[training_size:len(df3),:1]"
   ]
  },
  {
   "cell_type": "code",
   "execution_count": 14,
   "metadata": {},
   "outputs": [
    {
     "data": {
      "text/plain": [
       "((3288, 1), (1771, 1))"
      ]
     },
     "execution_count": 14,
     "metadata": {},
     "output_type": "execute_result"
    }
   ],
   "source": [
    "train_data.shape, test_data.shape"
   ]
  },
  {
   "cell_type": "code",
   "execution_count": 15,
   "metadata": {},
   "outputs": [],
   "source": [
    "import numpy\n",
    "# convert an array of values into a dataset matrix\n",
    "def create_dataset(dataset, time_step=1):\n",
    "\tdataX, dataY = [], []\n",
    "\tfor i in range(len(dataset)-time_step-1):\n",
    "\t\ta = dataset[i:(i+time_step), 0]   ###i=0, 0,1,2,3-----99   100 \n",
    "\t\tdataX.append(a)\n",
    "\t\tdataY.append(dataset[i + time_step, 0])\n",
    "\treturn numpy.array(dataX), numpy.array(dataY)"
   ]
  },
  {
   "cell_type": "code",
   "execution_count": 16,
   "metadata": {},
   "outputs": [],
   "source": [
    "# reshape into X=t,t+1,t+2,t+3 and Y=t+4\n",
    "time_step = 100\n",
    "X_train, y_train = create_dataset(train_data, time_step)\n",
    "X_test, ytest = create_dataset(test_data, time_step)"
   ]
  },
  {
   "cell_type": "code",
   "execution_count": 17,
   "metadata": {},
   "outputs": [],
   "source": [
    "# reshape input to be [samples, time steps, features] which is required for LSTM\n",
    "X_train =X_train.reshape(X_train.shape[0],X_train.shape[1] , 1)\n",
    "X_test = X_test.reshape(X_test.shape[0],X_test.shape[1] , 1)"
   ]
  },
  {
   "cell_type": "code",
   "execution_count": 18,
   "metadata": {},
   "outputs": [],
   "source": [
    "### Create the Stacked LSTM model\n",
    "from tensorflow.keras.models import Sequential\n",
    "from tensorflow.keras.layers import Dense\n",
    "from tensorflow.keras.layers import LSTM"
   ]
  },
  {
   "cell_type": "code",
   "execution_count": 19,
   "metadata": {},
   "outputs": [],
   "source": [
    "model=Sequential()\n",
    "model.add(LSTM(50,return_sequences=True,input_shape=(100,1)))\n",
    "model.add(LSTM(50,return_sequences=True))\n",
    "model.add(LSTM(50))\n",
    "model.add(Dense(1))\n",
    "model.compile(loss='mean_squared_error',optimizer='adam')"
   ]
  },
  {
   "cell_type": "code",
   "execution_count": 20,
   "metadata": {},
   "outputs": [
    {
     "name": "stdout",
     "output_type": "stream",
     "text": [
      "Model: \"sequential\"\n",
      "_________________________________________________________________\n",
      "Layer (type)                 Output Shape              Param #   \n",
      "=================================================================\n",
      "lstm (LSTM)                  (None, 100, 50)           10400     \n",
      "_________________________________________________________________\n",
      "lstm_1 (LSTM)                (None, 100, 50)           20200     \n",
      "_________________________________________________________________\n",
      "lstm_2 (LSTM)                (None, 50)                20200     \n",
      "_________________________________________________________________\n",
      "dense (Dense)                (None, 1)                 51        \n",
      "=================================================================\n",
      "Total params: 50,851\n",
      "Trainable params: 50,851\n",
      "Non-trainable params: 0\n",
      "_________________________________________________________________\n"
     ]
    }
   ],
   "source": [
    "model.summary()"
   ]
  },
  {
   "cell_type": "code",
   "execution_count": 21,
   "metadata": {},
   "outputs": [
    {
     "name": "stdout",
     "output_type": "stream",
     "text": [
      "Train on 3187 samples, validate on 1670 samples\n",
      "Epoch 1/10\n",
      "3187/3187 [==============================] - 36s 11ms/sample - loss: 0.0082 - val_loss: 0.0011\n",
      "Epoch 2/10\n",
      "3187/3187 [==============================] - 22s 7ms/sample - loss: 0.0012 - val_loss: 6.8237e-04\n",
      "Epoch 3/10\n",
      "3187/3187 [==============================] - 25s 8ms/sample - loss: 0.0011 - val_loss: 7.2993e-04\n",
      "Epoch 4/10\n",
      "3187/3187 [==============================] - 24s 8ms/sample - loss: 9.7066e-04 - val_loss: 6.0472e-04\n",
      "Epoch 5/10\n",
      "3187/3187 [==============================] - 24s 8ms/sample - loss: 8.8630e-04 - val_loss: 5.1896e-04\n",
      "Epoch 6/10\n",
      "3187/3187 [==============================] - 25s 8ms/sample - loss: 7.6793e-04 - val_loss: 4.7473e-04\n",
      "Epoch 7/10\n",
      "3187/3187 [==============================] - 26s 8ms/sample - loss: 7.9014e-04 - val_loss: 5.6861e-04\n",
      "Epoch 8/10\n",
      "3187/3187 [==============================] - 25s 8ms/sample - loss: 7.2218e-04 - val_loss: 4.3851e-04\n",
      "Epoch 9/10\n",
      "3187/3187 [==============================] - 25s 8ms/sample - loss: 7.4281e-04 - val_loss: 6.0419e-04\n",
      "Epoch 10/10\n",
      "3187/3187 [==============================] - 25s 8ms/sample - loss: 6.4128e-04 - val_loss: 4.4566e-04\n"
     ]
    },
    {
     "data": {
      "text/plain": [
       "<tensorflow.python.keras.callbacks.History at 0x28cb81674c8>"
      ]
     },
     "execution_count": 21,
     "metadata": {},
     "output_type": "execute_result"
    }
   ],
   "source": [
    "model.fit(X_train,y_train,validation_data=(X_test,ytest),epochs=10,batch_size=64,verbose=1)"
   ]
  },
  {
   "cell_type": "code",
   "execution_count": 22,
   "metadata": {},
   "outputs": [],
   "source": [
    "import tensorflow as tf"
   ]
  },
  {
   "cell_type": "code",
   "execution_count": 23,
   "metadata": {},
   "outputs": [],
   "source": [
    "### Lets Do the prediction and check performance metrics\n",
    "train_predict=model.predict(X_train)\n",
    "test_predict=model.predict(X_test)"
   ]
  },
  {
   "cell_type": "code",
   "execution_count": 24,
   "metadata": {},
   "outputs": [],
   "source": [
    "##Transformback to original form\n",
    "train_predict=scaler.inverse_transform(train_predict)\n",
    "test_predict=scaler.inverse_transform(test_predict)"
   ]
  },
  {
   "cell_type": "code",
   "execution_count": 25,
   "metadata": {},
   "outputs": [
    {
     "data": {
      "text/plain": [
       "1143.6756145347756"
      ]
     },
     "execution_count": 25,
     "metadata": {},
     "output_type": "execute_result"
    }
   ],
   "source": [
    "### Calculate RMSE performance metrics\n",
    "import math\n",
    "from sklearn.metrics import mean_squared_error\n",
    "math.sqrt(mean_squared_error(y_train,train_predict))"
   ]
  },
  {
   "cell_type": "code",
   "execution_count": 26,
   "metadata": {},
   "outputs": [
    {
     "data": {
      "text/plain": [
       "1111.7044145686548"
      ]
     },
     "execution_count": 26,
     "metadata": {},
     "output_type": "execute_result"
    }
   ],
   "source": [
    "### Test Data RMSE\n",
    "math.sqrt(mean_squared_error(ytest,test_predict))"
   ]
  },
  {
   "cell_type": "code",
   "execution_count": 28,
   "metadata": {},
   "outputs": [
    {
     "data": {
      "image/png": "[encoded data removed]",
      "text/plain": [
       "<Figure size 432x288 with 1 Axes>"
      ]
     },
     "metadata": {
      "needs_background": "light"
     },
     "output_type": "display_data"
    }
   ],
   "source": [
    "### Plotting \n",
    "# shift train predictions for plotting\n",
    "look_back=100\n",
    "trainPredictPlot = numpy.empty_like(df3)\n",
    "trainPredictPlot[:, :] = np.nan\n",
    "trainPredictPlot[look_back:len(train_predict)+look_back, :] = train_predict\n",
    "# shift test predictions for plotting\n",
    "testPredictPlot = numpy.empty_like(df3)\n",
    "testPredictPlot[:, :] = numpy.nan\n",
    "testPredictPlot[len(train_predict)+(look_back*2)+1:len(df3)-1, :] = test_predict\n",
    "# plot baseline and predictions\n",
    "plt.plot(scaler.inverse_transform(df3))\n",
    "plt.plot(trainPredictPlot)\n",
    "plt.plot(testPredictPlot)\n",
    "plt.show()"
   ]
  },
  {
   "cell_type": "code",
   "execution_count": 29,
   "metadata": {},
   "outputs": [
    {
     "data": {
      "text/plain": [
       "1771"
      ]
     },
     "execution_count": 29,
     "metadata": {},
     "output_type": "execute_result"
    }
   ],
   "source": [
    "len(test_data)"
   ]
  },
  {
   "cell_type": "code",
   "execution_count": 31,
   "metadata": {},
   "outputs": [
    {
     "data": {
      "text/plain": [
       "(1, 100)"
      ]
     },
     "execution_count": 31,
     "metadata": {},
     "output_type": "execute_result"
    }
   ],
   "source": [
    "x_input=test_data[1671:].reshape(1,-1)\n",
    "x_input.shape"
   ]
  },
  {
   "cell_type": "code",
   "execution_count": 32,
   "metadata": {},
   "outputs": [],
   "source": [
    "temp_input=list(x_input)\n",
    "temp_input=temp_input[0].tolist()"
   ]
  },
  {
   "cell_type": "code",
   "execution_count": 33,
   "metadata": {},
   "outputs": [
    {
     "name": "stdout",
     "output_type": "stream",
     "text": [
      "[0.39222172]\n",
      "101\n",
      "1 day input [0.44793134 0.45379683 0.45026759 0.45041671 0.45233874 0.45721008\n",
      " 0.45180853 0.45051613 0.45487383 0.46617401 0.4625785  0.45339917\n",
      " 0.44513115 0.43484168 0.44377247 0.44438553 0.43439431 0.43291966\n",
      " 0.44143622 0.44204928 0.43023545 0.43789041 0.43409607 0.44564479\n",
      " 0.44552881 0.44421984 0.43948105 0.43764187 0.44229781 0.45658045\n",
      " 0.44045864 0.44097228 0.44079002 0.43863602 0.43687969 0.43190894\n",
      " 0.42037678 0.42306099 0.41109804 0.40046062 0.39108246 0.39179494\n",
      " 0.40534853 0.41267211 0.41575398 0.40775106 0.40839726 0.41408049\n",
      " 0.41989628 0.4211721  0.42562921 0.42253078 0.41893526 0.43099763\n",
      " 0.42508243 0.4114957  0.4020347  0.39394893 0.39204348 0.37295578\n",
      " 0.36881348 0.37766143 0.37661757 0.36715656 0.35385151 0.30187397\n",
      " 0.31493049 0.2849237  0.29894123 0.26924925 0.2666976  0.25360794\n",
      " 0.23677365 0.26999486 0.22562259 0.24529021 0.29130283 0.28598413\n",
      " 0.2857853  0.27413716 0.30174142 0.29070634 0.28971219 0.33234471\n",
      " 0.3277219  0.33693437 0.32672775 0.31370437 0.31973556 0.33827647\n",
      " 0.34483787 0.34270045 0.38453764 0.38695674 0.40223353 0.40645867\n",
      " 0.40592845 0.40553079 0.41847133 0.39222172]\n",
      "1 day output [[0.40040264]]\n",
      "2 day input [0.45379683 0.45026759 0.45041671 0.45233874 0.45721008 0.45180853\n",
      " 0.45051613 0.45487383 0.46617401 0.4625785  0.45339917 0.44513115\n",
      " 0.43484168 0.44377247 0.44438553 0.43439431 0.43291966 0.44143622\n",
      " 0.44204928 0.43023545 0.43789041 0.43409607 0.44564479 0.44552881\n",
      " 0.44421984 0.43948105 0.43764187 0.44229781 0.45658045 0.44045864\n",
      " 0.44097228 0.44079002 0.43863602 0.43687969 0.43190894 0.42037678\n",
      " 0.42306099 0.41109804 0.40046062 0.39108246 0.39179494 0.40534853\n",
      " 0.41267211 0.41575398 0.40775106 0.40839726 0.41408049 0.41989628\n",
      " 0.4211721  0.42562921 0.42253078 0.41893526 0.43099763 0.42508243\n",
      " 0.4114957  0.4020347  0.39394893 0.39204348 0.37295578 0.36881348\n",
      " 0.37766143 0.37661757 0.36715656 0.35385151 0.30187397 0.31493049\n",
      " 0.2849237  0.29894123 0.26924925 0.2666976  0.25360794 0.23677365\n",
      " 0.26999486 0.22562259 0.24529021 0.29130283 0.28598413 0.2857853\n",
      " 0.27413716 0.30174142 0.29070634 0.28971219 0.33234471 0.3277219\n",
      " 0.33693437 0.32672775 0.31370437 0.31973556 0.33827647 0.34483787\n",
      " 0.34270045 0.38453764 0.38695674 0.40223353 0.40645867 0.40592845\n",
      " 0.40553079 0.41847133 0.39222172 0.40040264]\n",
      "2 day output [[0.40715465]]\n",
      "3 day input [0.45026759 0.45041671 0.45233874 0.45721008 0.45180853 0.45051613\n",
      " 0.45487383 0.46617401 0.4625785  0.45339917 0.44513115 0.43484168\n",
      " 0.44377247 0.44438553 0.43439431 0.43291966 0.44143622 0.44204928\n",
      " 0.43023545 0.43789041 0.43409607 0.44564479 0.44552881 0.44421984\n",
      " 0.43948105 0.43764187 0.44229781 0.45658045 0.44045864 0.44097228\n",
      " 0.44079002 0.43863602 0.43687969 0.43190894 0.42037678 0.42306099\n",
      " 0.41109804 0.40046062 0.39108246 0.39179494 0.40534853 0.41267211\n",
      " 0.41575398 0.40775106 0.40839726 0.41408049 0.41989628 0.4211721\n",
      " 0.42562921 0.42253078 0.41893526 0.43099763 0.42508243 0.4114957\n",
      " 0.4020347  0.39394893 0.39204348 0.37295578 0.36881348 0.37766143\n",
      " 0.37661757 0.36715656 0.35385151 0.30187397 0.31493049 0.2849237\n",
      " 0.29894123 0.26924925 0.2666976  0.25360794 0.23677365 0.26999486\n",
      " 0.22562259 0.24529021 0.29130283 0.28598413 0.2857853  0.27413716\n",
      " 0.30174142 0.29070634 0.28971219 0.33234471 0.3277219  0.33693437\n",
      " 0.32672775 0.31370437 0.31973556 0.33827647 0.34483787 0.34270045\n",
      " 0.38453764 0.38695674 0.40223353 0.40645867 0.40592845 0.40553079\n",
      " 0.41847133 0.39222172 0.40040264 0.40715465]\n",
      "3 day output [[0.41252002]]\n",
      "4 day input [0.45041671 0.45233874 0.45721008 0.45180853 0.45051613 0.45487383\n",
      " 0.46617401 0.4625785  0.45339917 0.44513115 0.43484168 0.44377247\n",
      " 0.44438553 0.43439431 0.43291966 0.44143622 0.44204928 0.43023545\n",
      " 0.43789041 0.43409607 0.44564479 0.44552881 0.44421984 0.43948105\n",
      " 0.43764187 0.44229781 0.45658045 0.44045864 0.44097228 0.44079002\n",
      " 0.43863602 0.43687969 0.43190894 0.42037678 0.42306099 0.41109804\n",
      " 0.40046062 0.39108246 0.39179494 0.40534853 0.41267211 0.41575398\n",
      " 0.40775106 0.40839726 0.41408049 0.41989628 0.4211721  0.42562921\n",
      " 0.42253078 0.41893526 0.43099763 0.42508243 0.4114957  0.4020347\n",
      " 0.39394893 0.39204348 0.37295578 0.36881348 0.37766143 0.37661757\n",
      " 0.36715656 0.35385151 0.30187397 0.31493049 0.2849237  0.29894123\n",
      " 0.26924925 0.2666976  0.25360794 0.23677365 0.26999486 0.22562259\n",
      " 0.24529021 0.29130283 0.28598413 0.2857853  0.27413716 0.30174142\n",
      " 0.29070634 0.28971219 0.33234471 0.3277219  0.33693437 0.32672775\n",
      " 0.31370437 0.31973556 0.33827647 0.34483787 0.34270045 0.38453764\n",
      " 0.38695674 0.40223353 0.40645867 0.40592845 0.40553079 0.41847133\n",
      " 0.39222172 0.40040264 0.40715465 0.41252002]\n",
      "4 day output [[0.4167109]]\n",
      "5 day input [0.45233874 0.45721008 0.45180853 0.45051613 0.45487383 0.46617401\n",
      " 0.4625785  0.45339917 0.44513115 0.43484168 0.44377247 0.44438553\n",
      " 0.43439431 0.43291966 0.44143622 0.44204928 0.43023545 0.43789041\n",
      " 0.43409607 0.44564479 0.44552881 0.44421984 0.43948105 0.43764187\n",
      " 0.44229781 0.45658045 0.44045864 0.44097228 0.44079002 0.43863602\n",
      " 0.43687969 0.43190894 0.42037678 0.42306099 0.41109804 0.40046062\n",
      " 0.39108246 0.39179494 0.40534853 0.41267211 0.41575398 0.40775106\n",
      " 0.40839726 0.41408049 0.41989628 0.4211721  0.42562921 0.42253078\n",
      " 0.41893526 0.43099763 0.42508243 0.4114957  0.4020347  0.39394893\n",
      " 0.39204348 0.37295578 0.36881348 0.37766143 0.37661757 0.36715656\n",
      " 0.35385151 0.30187397 0.31493049 0.2849237  0.29894123 0.26924925\n",
      " 0.2666976  0.25360794 0.23677365 0.26999486 0.22562259 0.24529021\n",
      " 0.29130283 0.28598413 0.2857853  0.27413716 0.30174142 0.29070634\n",
      " 0.28971219 0.33234471 0.3277219  0.33693437 0.32672775 0.31370437\n",
      " 0.31973556 0.33827647 0.34483787 0.34270045 0.38453764 0.38695674\n",
      " 0.40223353 0.40645867 0.40592845 0.40553079 0.41847133 0.39222172\n",
      " 0.40040264 0.40715465 0.41252002 0.41671091]\n",
      "5 day output [[0.4199982]]\n",
      "6 day input [0.45721008 0.45180853 0.45051613 0.45487383 0.46617401 0.4625785\n",
      " 0.45339917 0.44513115 0.43484168 0.44377247 0.44438553 0.43439431\n",
      " 0.43291966 0.44143622 0.44204928 0.43023545 0.43789041 0.43409607\n",
      " 0.44564479 0.44552881 0.44421984 0.43948105 0.43764187 0.44229781\n",
      " 0.45658045 0.44045864 0.44097228 0.44079002 0.43863602 0.43687969\n",
      " 0.43190894 0.42037678 0.42306099 0.41109804 0.40046062 0.39108246\n",
      " 0.39179494 0.40534853 0.41267211 0.41575398 0.40775106 0.40839726\n",
      " 0.41408049 0.41989628 0.4211721  0.42562921 0.42253078 0.41893526\n",
      " 0.43099763 0.42508243 0.4114957  0.4020347  0.39394893 0.39204348\n",
      " 0.37295578 0.36881348 0.37766143 0.37661757 0.36715656 0.35385151\n",
      " 0.30187397 0.31493049 0.2849237  0.29894123 0.26924925 0.2666976\n",
      " 0.25360794 0.23677365 0.26999486 0.22562259 0.24529021 0.29130283\n",
      " 0.28598413 0.2857853  0.27413716 0.30174142 0.29070634 0.28971219\n",
      " 0.33234471 0.3277219  0.33693437 0.32672775 0.31370437 0.31973556\n",
      " 0.33827647 0.34483787 0.34270045 0.38453764 0.38695674 0.40223353\n",
      " 0.40645867 0.40592845 0.40553079 0.41847133 0.39222172 0.40040264\n",
      " 0.40715465 0.41252002 0.41671091 0.4199982 ]\n",
      "6 day output [[0.42264268]]\n",
      "7 day input [0.45180853 0.45051613 0.45487383 0.46617401 0.4625785  0.45339917\n",
      " 0.44513115 0.43484168 0.44377247 0.44438553 0.43439431 0.43291966\n",
      " 0.44143622 0.44204928 0.43023545 0.43789041 0.43409607 0.44564479\n",
      " 0.44552881 0.44421984 0.43948105 0.43764187 0.44229781 0.45658045\n",
      " 0.44045864 0.44097228 0.44079002 0.43863602 0.43687969 0.43190894\n",
      " 0.42037678 0.42306099 0.41109804 0.40046062 0.39108246 0.39179494\n",
      " 0.40534853 0.41267211 0.41575398 0.40775106 0.40839726 0.41408049\n",
      " 0.41989628 0.4211721  0.42562921 0.42253078 0.41893526 0.43099763\n",
      " 0.42508243 0.4114957  0.4020347  0.39394893 0.39204348 0.37295578\n",
      " 0.36881348 0.37766143 0.37661757 0.36715656 0.35385151 0.30187397\n",
      " 0.31493049 0.2849237  0.29894123 0.26924925 0.2666976  0.25360794\n",
      " 0.23677365 0.26999486 0.22562259 0.24529021 0.29130283 0.28598413\n",
      " 0.2857853  0.27413716 0.30174142 0.29070634 0.28971219 0.33234471\n",
      " 0.3277219  0.33693437 0.32672775 0.31370437 0.31973556 0.33827647\n",
      " 0.34483787 0.34270045 0.38453764 0.38695674 0.40223353 0.40645867\n",
      " 0.40592845 0.40553079 0.41847133 0.39222172 0.40040264 0.40715465\n",
      " 0.41252002 0.41671091 0.4199982  0.42264268]\n",
      "7 day output [[0.42486134]]\n",
      "8 day input [0.45051613 0.45487383 0.46617401 0.4625785  0.45339917 0.44513115\n",
      " 0.43484168 0.44377247 0.44438553 0.43439431 0.43291966 0.44143622\n",
      " 0.44204928 0.43023545 0.43789041 0.43409607 0.44564479 0.44552881\n",
      " 0.44421984 0.43948105 0.43764187 0.44229781 0.45658045 0.44045864\n",
      " 0.44097228 0.44079002 0.43863602 0.43687969 0.43190894 0.42037678\n",
      " 0.42306099 0.41109804 0.40046062 0.39108246 0.39179494 0.40534853\n",
      " 0.41267211 0.41575398 0.40775106 0.40839726 0.41408049 0.41989628\n",
      " 0.4211721  0.42562921 0.42253078 0.41893526 0.43099763 0.42508243\n",
      " 0.4114957  0.4020347  0.39394893 0.39204348 0.37295578 0.36881348\n",
      " 0.37766143 0.37661757 0.36715656 0.35385151 0.30187397 0.31493049\n",
      " 0.2849237  0.29894123 0.26924925 0.2666976  0.25360794 0.23677365\n",
      " 0.26999486 0.22562259 0.24529021 0.29130283 0.28598413 0.2857853\n",
      " 0.27413716 0.30174142 0.29070634 0.28971219 0.33234471 0.3277219\n",
      " 0.33693437 0.32672775 0.31370437 0.31973556 0.33827647 0.34483787\n",
      " 0.34270045 0.38453764 0.38695674 0.40223353 0.40645867 0.40592845\n",
      " 0.40553079 0.41847133 0.39222172 0.40040264 0.40715465 0.41252002\n",
      " 0.41671091 0.4199982  0.42264268 0.42486134]\n",
      "8 day output [[0.42681667]]\n",
      "9 day input [0.45487383 0.46617401 0.4625785  0.45339917 0.44513115 0.43484168\n",
      " 0.44377247 0.44438553 0.43439431 0.43291966 0.44143622 0.44204928\n",
      " 0.43023545 0.43789041 0.43409607 0.44564479 0.44552881 0.44421984\n",
      " 0.43948105 0.43764187 0.44229781 0.45658045 0.44045864 0.44097228\n",
      " 0.44079002 0.43863602 0.43687969 0.43190894 0.42037678 0.42306099\n",
      " 0.41109804 0.40046062 0.39108246 0.39179494 0.40534853 0.41267211\n",
      " 0.41575398 0.40775106 0.40839726 0.41408049 0.41989628 0.4211721\n",
      " 0.42562921 0.42253078 0.41893526 0.43099763 0.42508243 0.4114957\n",
      " 0.4020347  0.39394893 0.39204348 0.37295578 0.36881348 0.37766143\n",
      " 0.37661757 0.36715656 0.35385151 0.30187397 0.31493049 0.2849237\n",
      " 0.29894123 0.26924925 0.2666976  0.25360794 0.23677365 0.26999486\n",
      " 0.22562259 0.24529021 0.29130283 0.28598413 0.2857853  0.27413716\n",
      " 0.30174142 0.29070634 0.28971219 0.33234471 0.3277219  0.33693437\n",
      " 0.32672775 0.31370437 0.31973556 0.33827647 0.34483787 0.34270045\n",
      " 0.38453764 0.38695674 0.40223353 0.40645867 0.40592845 0.40553079\n",
      " 0.41847133 0.39222172 0.40040264 0.40715465 0.41252002 0.41671091\n",
      " 0.4199982  0.42264268 0.42486134 0.42681667]\n"
     ]
    },
    {
     "name": "stdout",
     "output_type": "stream",
     "text": [
      "9 day output [[0.42861953]]\n",
      "10 day input [0.46617401 0.4625785  0.45339917 0.44513115 0.43484168 0.44377247\n",
      " 0.44438553 0.43439431 0.43291966 0.44143622 0.44204928 0.43023545\n",
      " 0.43789041 0.43409607 0.44564479 0.44552881 0.44421984 0.43948105\n",
      " 0.43764187 0.44229781 0.45658045 0.44045864 0.44097228 0.44079002\n",
      " 0.43863602 0.43687969 0.43190894 0.42037678 0.42306099 0.41109804\n",
      " 0.40046062 0.39108246 0.39179494 0.40534853 0.41267211 0.41575398\n",
      " 0.40775106 0.40839726 0.41408049 0.41989628 0.4211721  0.42562921\n",
      " 0.42253078 0.41893526 0.43099763 0.42508243 0.4114957  0.4020347\n",
      " 0.39394893 0.39204348 0.37295578 0.36881348 0.37766143 0.37661757\n",
      " 0.36715656 0.35385151 0.30187397 0.31493049 0.2849237  0.29894123\n",
      " 0.26924925 0.2666976  0.25360794 0.23677365 0.26999486 0.22562259\n",
      " 0.24529021 0.29130283 0.28598413 0.2857853  0.27413716 0.30174142\n",
      " 0.29070634 0.28971219 0.33234471 0.3277219  0.33693437 0.32672775\n",
      " 0.31370437 0.31973556 0.33827647 0.34483787 0.34270045 0.38453764\n",
      " 0.38695674 0.40223353 0.40645867 0.40592845 0.40553079 0.41847133\n",
      " 0.39222172 0.40040264 0.40715465 0.41252002 0.41671091 0.4199982\n",
      " 0.42264268 0.42486134 0.42681667 0.42861953]\n",
      "10 day output [[0.4303393]]\n",
      "11 day input [0.4625785  0.45339917 0.44513115 0.43484168 0.44377247 0.44438553\n",
      " 0.43439431 0.43291966 0.44143622 0.44204928 0.43023545 0.43789041\n",
      " 0.43409607 0.44564479 0.44552881 0.44421984 0.43948105 0.43764187\n",
      " 0.44229781 0.45658045 0.44045864 0.44097228 0.44079002 0.43863602\n",
      " 0.43687969 0.43190894 0.42037678 0.42306099 0.41109804 0.40046062\n",
      " 0.39108246 0.39179494 0.40534853 0.41267211 0.41575398 0.40775106\n",
      " 0.40839726 0.41408049 0.41989628 0.4211721  0.42562921 0.42253078\n",
      " 0.41893526 0.43099763 0.42508243 0.4114957  0.4020347  0.39394893\n",
      " 0.39204348 0.37295578 0.36881348 0.37766143 0.37661757 0.36715656\n",
      " 0.35385151 0.30187397 0.31493049 0.2849237  0.29894123 0.26924925\n",
      " 0.2666976  0.25360794 0.23677365 0.26999486 0.22562259 0.24529021\n",
      " 0.29130283 0.28598413 0.2857853  0.27413716 0.30174142 0.29070634\n",
      " 0.28971219 0.33234471 0.3277219  0.33693437 0.32672775 0.31370437\n",
      " 0.31973556 0.33827647 0.34483787 0.34270045 0.38453764 0.38695674\n",
      " 0.40223353 0.40645867 0.40592845 0.40553079 0.41847133 0.39222172\n",
      " 0.40040264 0.40715465 0.41252002 0.41671091 0.4199982  0.42264268\n",
      " 0.42486134 0.42681667 0.42861953 0.43033931]\n",
      "11 day output [[0.43201497]]\n",
      "12 day input [0.45339917 0.44513115 0.43484168 0.44377247 0.44438553 0.43439431\n",
      " 0.43291966 0.44143622 0.44204928 0.43023545 0.43789041 0.43409607\n",
      " 0.44564479 0.44552881 0.44421984 0.43948105 0.43764187 0.44229781\n",
      " 0.45658045 0.44045864 0.44097228 0.44079002 0.43863602 0.43687969\n",
      " 0.43190894 0.42037678 0.42306099 0.41109804 0.40046062 0.39108246\n",
      " 0.39179494 0.40534853 0.41267211 0.41575398 0.40775106 0.40839726\n",
      " 0.41408049 0.41989628 0.4211721  0.42562921 0.42253078 0.41893526\n",
      " 0.43099763 0.42508243 0.4114957  0.4020347  0.39394893 0.39204348\n",
      " 0.37295578 0.36881348 0.37766143 0.37661757 0.36715656 0.35385151\n",
      " 0.30187397 0.31493049 0.2849237  0.29894123 0.26924925 0.2666976\n",
      " 0.25360794 0.23677365 0.26999486 0.22562259 0.24529021 0.29130283\n",
      " 0.28598413 0.2857853  0.27413716 0.30174142 0.29070634 0.28971219\n",
      " 0.33234471 0.3277219  0.33693437 0.32672775 0.31370437 0.31973556\n",
      " 0.33827647 0.34483787 0.34270045 0.38453764 0.38695674 0.40223353\n",
      " 0.40645867 0.40592845 0.40553079 0.41847133 0.39222172 0.40040264\n",
      " 0.40715465 0.41252002 0.41671091 0.4199982  0.42264268 0.42486134\n",
      " 0.42681667 0.42861953 0.43033931 0.43201497]\n",
      "12 day output [[0.43366593]]\n",
      "13 day input [0.44513115 0.43484168 0.44377247 0.44438553 0.43439431 0.43291966\n",
      " 0.44143622 0.44204928 0.43023545 0.43789041 0.43409607 0.44564479\n",
      " 0.44552881 0.44421984 0.43948105 0.43764187 0.44229781 0.45658045\n",
      " 0.44045864 0.44097228 0.44079002 0.43863602 0.43687969 0.43190894\n",
      " 0.42037678 0.42306099 0.41109804 0.40046062 0.39108246 0.39179494\n",
      " 0.40534853 0.41267211 0.41575398 0.40775106 0.40839726 0.41408049\n",
      " 0.41989628 0.4211721  0.42562921 0.42253078 0.41893526 0.43099763\n",
      " 0.42508243 0.4114957  0.4020347  0.39394893 0.39204348 0.37295578\n",
      " 0.36881348 0.37766143 0.37661757 0.36715656 0.35385151 0.30187397\n",
      " 0.31493049 0.2849237  0.29894123 0.26924925 0.2666976  0.25360794\n",
      " 0.23677365 0.26999486 0.22562259 0.24529021 0.29130283 0.28598413\n",
      " 0.2857853  0.27413716 0.30174142 0.29070634 0.28971219 0.33234471\n",
      " 0.3277219  0.33693437 0.32672775 0.31370437 0.31973556 0.33827647\n",
      " 0.34483787 0.34270045 0.38453764 0.38695674 0.40223353 0.40645867\n",
      " 0.40592845 0.40553079 0.41847133 0.39222172 0.40040264 0.40715465\n",
      " 0.41252002 0.41671091 0.4199982  0.42264268 0.42486134 0.42681667\n",
      " 0.42861953 0.43033931 0.43201497 0.43366593]\n",
      "13 day output [[0.43529978]]\n",
      "14 day input [0.43484168 0.44377247 0.44438553 0.43439431 0.43291966 0.44143622\n",
      " 0.44204928 0.43023545 0.43789041 0.43409607 0.44564479 0.44552881\n",
      " 0.44421984 0.43948105 0.43764187 0.44229781 0.45658045 0.44045864\n",
      " 0.44097228 0.44079002 0.43863602 0.43687969 0.43190894 0.42037678\n",
      " 0.42306099 0.41109804 0.40046062 0.39108246 0.39179494 0.40534853\n",
      " 0.41267211 0.41575398 0.40775106 0.40839726 0.41408049 0.41989628\n",
      " 0.4211721  0.42562921 0.42253078 0.41893526 0.43099763 0.42508243\n",
      " 0.4114957  0.4020347  0.39394893 0.39204348 0.37295578 0.36881348\n",
      " 0.37766143 0.37661757 0.36715656 0.35385151 0.30187397 0.31493049\n",
      " 0.2849237  0.29894123 0.26924925 0.2666976  0.25360794 0.23677365\n",
      " 0.26999486 0.22562259 0.24529021 0.29130283 0.28598413 0.2857853\n",
      " 0.27413716 0.30174142 0.29070634 0.28971219 0.33234471 0.3277219\n",
      " 0.33693437 0.32672775 0.31370437 0.31973556 0.33827647 0.34483787\n",
      " 0.34270045 0.38453764 0.38695674 0.40223353 0.40645867 0.40592845\n",
      " 0.40553079 0.41847133 0.39222172 0.40040264 0.40715465 0.41252002\n",
      " 0.41671091 0.4199982  0.42264268 0.42486134 0.42681667 0.42861953\n",
      " 0.43033931 0.43201497 0.43366593 0.43529978]\n",
      "14 day output [[0.43691853]]\n",
      "15 day input [0.44377247 0.44438553 0.43439431 0.43291966 0.44143622 0.44204928\n",
      " 0.43023545 0.43789041 0.43409607 0.44564479 0.44552881 0.44421984\n",
      " 0.43948105 0.43764187 0.44229781 0.45658045 0.44045864 0.44097228\n",
      " 0.44079002 0.43863602 0.43687969 0.43190894 0.42037678 0.42306099\n",
      " 0.41109804 0.40046062 0.39108246 0.39179494 0.40534853 0.41267211\n",
      " 0.41575398 0.40775106 0.40839726 0.41408049 0.41989628 0.4211721\n",
      " 0.42562921 0.42253078 0.41893526 0.43099763 0.42508243 0.4114957\n",
      " 0.4020347  0.39394893 0.39204348 0.37295578 0.36881348 0.37766143\n",
      " 0.37661757 0.36715656 0.35385151 0.30187397 0.31493049 0.2849237\n",
      " 0.29894123 0.26924925 0.2666976  0.25360794 0.23677365 0.26999486\n",
      " 0.22562259 0.24529021 0.29130283 0.28598413 0.2857853  0.27413716\n",
      " 0.30174142 0.29070634 0.28971219 0.33234471 0.3277219  0.33693437\n",
      " 0.32672775 0.31370437 0.31973556 0.33827647 0.34483787 0.34270045\n",
      " 0.38453764 0.38695674 0.40223353 0.40645867 0.40592845 0.40553079\n",
      " 0.41847133 0.39222172 0.40040264 0.40715465 0.41252002 0.41671091\n",
      " 0.4199982  0.42264268 0.42486134 0.42681667 0.42861953 0.43033931\n",
      " 0.43201497 0.43366593 0.43529978 0.43691853]\n",
      "15 day output [[0.4385218]]\n",
      "16 day input [0.44438553 0.43439431 0.43291966 0.44143622 0.44204928 0.43023545\n",
      " 0.43789041 0.43409607 0.44564479 0.44552881 0.44421984 0.43948105\n",
      " 0.43764187 0.44229781 0.45658045 0.44045864 0.44097228 0.44079002\n",
      " 0.43863602 0.43687969 0.43190894 0.42037678 0.42306099 0.41109804\n",
      " 0.40046062 0.39108246 0.39179494 0.40534853 0.41267211 0.41575398\n",
      " 0.40775106 0.40839726 0.41408049 0.41989628 0.4211721  0.42562921\n",
      " 0.42253078 0.41893526 0.43099763 0.42508243 0.4114957  0.4020347\n",
      " 0.39394893 0.39204348 0.37295578 0.36881348 0.37766143 0.37661757\n",
      " 0.36715656 0.35385151 0.30187397 0.31493049 0.2849237  0.29894123\n",
      " 0.26924925 0.2666976  0.25360794 0.23677365 0.26999486 0.22562259\n",
      " 0.24529021 0.29130283 0.28598413 0.2857853  0.27413716 0.30174142\n",
      " 0.29070634 0.28971219 0.33234471 0.3277219  0.33693437 0.32672775\n",
      " 0.31370437 0.31973556 0.33827647 0.34483787 0.34270045 0.38453764\n",
      " 0.38695674 0.40223353 0.40645867 0.40592845 0.40553079 0.41847133\n",
      " 0.39222172 0.40040264 0.40715465 0.41252002 0.41671091 0.4199982\n",
      " 0.42264268 0.42486134 0.42681667 0.42861953 0.43033931 0.43201497\n",
      " 0.43366593 0.43529978 0.43691853 0.4385218 ]\n",
      "16 day output [[0.44010928]]\n",
      "17 day input [0.43439431 0.43291966 0.44143622 0.44204928 0.43023545 0.43789041\n",
      " 0.43409607 0.44564479 0.44552881 0.44421984 0.43948105 0.43764187\n",
      " 0.44229781 0.45658045 0.44045864 0.44097228 0.44079002 0.43863602\n",
      " 0.43687969 0.43190894 0.42037678 0.42306099 0.41109804 0.40046062\n",
      " 0.39108246 0.39179494 0.40534853 0.41267211 0.41575398 0.40775106\n",
      " 0.40839726 0.41408049 0.41989628 0.4211721  0.42562921 0.42253078\n",
      " 0.41893526 0.43099763 0.42508243 0.4114957  0.4020347  0.39394893\n",
      " 0.39204348 0.37295578 0.36881348 0.37766143 0.37661757 0.36715656\n",
      " 0.35385151 0.30187397 0.31493049 0.2849237  0.29894123 0.26924925\n",
      " 0.2666976  0.25360794 0.23677365 0.26999486 0.22562259 0.24529021\n",
      " 0.29130283 0.28598413 0.2857853  0.27413716 0.30174142 0.29070634\n",
      " 0.28971219 0.33234471 0.3277219  0.33693437 0.32672775 0.31370437\n",
      " 0.31973556 0.33827647 0.34483787 0.34270045 0.38453764 0.38695674\n",
      " 0.40223353 0.40645867 0.40592845 0.40553079 0.41847133 0.39222172\n",
      " 0.40040264 0.40715465 0.41252002 0.41671091 0.4199982  0.42264268\n",
      " 0.42486134 0.42681667 0.42861953 0.43033931 0.43201497 0.43366593\n",
      " 0.43529978 0.43691853 0.4385218  0.44010928]\n",
      "17 day output [[0.44168112]]\n",
      "18 day input [0.43291966 0.44143622 0.44204928 0.43023545 0.43789041 0.43409607\n",
      " 0.44564479 0.44552881 0.44421984 0.43948105 0.43764187 0.44229781\n",
      " 0.45658045 0.44045864 0.44097228 0.44079002 0.43863602 0.43687969\n",
      " 0.43190894 0.42037678 0.42306099 0.41109804 0.40046062 0.39108246\n",
      " 0.39179494 0.40534853 0.41267211 0.41575398 0.40775106 0.40839726\n",
      " 0.41408049 0.41989628 0.4211721  0.42562921 0.42253078 0.41893526\n",
      " 0.43099763 0.42508243 0.4114957  0.4020347  0.39394893 0.39204348\n",
      " 0.37295578 0.36881348 0.37766143 0.37661757 0.36715656 0.35385151\n",
      " 0.30187397 0.31493049 0.2849237  0.29894123 0.26924925 0.2666976\n",
      " 0.25360794 0.23677365 0.26999486 0.22562259 0.24529021 0.29130283\n",
      " 0.28598413 0.2857853  0.27413716 0.30174142 0.29070634 0.28971219\n",
      " 0.33234471 0.3277219  0.33693437 0.32672775 0.31370437 0.31973556\n",
      " 0.33827647 0.34483787 0.34270045 0.38453764 0.38695674 0.40223353\n",
      " 0.40645867 0.40592845 0.40553079 0.41847133 0.39222172 0.40040264\n",
      " 0.40715465 0.41252002 0.41671091 0.4199982  0.42264268 0.42486134\n",
      " 0.42681667 0.42861953 0.43033931 0.43201497 0.43366593 0.43529978\n",
      " 0.43691853 0.4385218  0.44010928 0.44168112]\n"
     ]
    },
    {
     "name": "stdout",
     "output_type": "stream",
     "text": [
      "18 day output [[0.44323835]]\n",
      "19 day input [0.44143622 0.44204928 0.43023545 0.43789041 0.43409607 0.44564479\n",
      " 0.44552881 0.44421984 0.43948105 0.43764187 0.44229781 0.45658045\n",
      " 0.44045864 0.44097228 0.44079002 0.43863602 0.43687969 0.43190894\n",
      " 0.42037678 0.42306099 0.41109804 0.40046062 0.39108246 0.39179494\n",
      " 0.40534853 0.41267211 0.41575398 0.40775106 0.40839726 0.41408049\n",
      " 0.41989628 0.4211721  0.42562921 0.42253078 0.41893526 0.43099763\n",
      " 0.42508243 0.4114957  0.4020347  0.39394893 0.39204348 0.37295578\n",
      " 0.36881348 0.37766143 0.37661757 0.36715656 0.35385151 0.30187397\n",
      " 0.31493049 0.2849237  0.29894123 0.26924925 0.2666976  0.25360794\n",
      " 0.23677365 0.26999486 0.22562259 0.24529021 0.29130283 0.28598413\n",
      " 0.2857853  0.27413716 0.30174142 0.29070634 0.28971219 0.33234471\n",
      " 0.3277219  0.33693437 0.32672775 0.31370437 0.31973556 0.33827647\n",
      " 0.34483787 0.34270045 0.38453764 0.38695674 0.40223353 0.40645867\n",
      " 0.40592845 0.40553079 0.41847133 0.39222172 0.40040264 0.40715465\n",
      " 0.41252002 0.41671091 0.4199982  0.42264268 0.42486134 0.42681667\n",
      " 0.42861953 0.43033931 0.43201497 0.43366593 0.43529978 0.43691853\n",
      " 0.4385218  0.44010928 0.44168112 0.44323835]\n",
      "19 day output [[0.44478288]]\n",
      "20 day input [0.44204928 0.43023545 0.43789041 0.43409607 0.44564479 0.44552881\n",
      " 0.44421984 0.43948105 0.43764187 0.44229781 0.45658045 0.44045864\n",
      " 0.44097228 0.44079002 0.43863602 0.43687969 0.43190894 0.42037678\n",
      " 0.42306099 0.41109804 0.40046062 0.39108246 0.39179494 0.40534853\n",
      " 0.41267211 0.41575398 0.40775106 0.40839726 0.41408049 0.41989628\n",
      " 0.4211721  0.42562921 0.42253078 0.41893526 0.43099763 0.42508243\n",
      " 0.4114957  0.4020347  0.39394893 0.39204348 0.37295578 0.36881348\n",
      " 0.37766143 0.37661757 0.36715656 0.35385151 0.30187397 0.31493049\n",
      " 0.2849237  0.29894123 0.26924925 0.2666976  0.25360794 0.23677365\n",
      " 0.26999486 0.22562259 0.24529021 0.29130283 0.28598413 0.2857853\n",
      " 0.27413716 0.30174142 0.29070634 0.28971219 0.33234471 0.3277219\n",
      " 0.33693437 0.32672775 0.31370437 0.31973556 0.33827647 0.34483787\n",
      " 0.34270045 0.38453764 0.38695674 0.40223353 0.40645867 0.40592845\n",
      " 0.40553079 0.41847133 0.39222172 0.40040264 0.40715465 0.41252002\n",
      " 0.41671091 0.4199982  0.42264268 0.42486134 0.42681667 0.42861953\n",
      " 0.43033931 0.43201497 0.43366593 0.43529978 0.43691853 0.4385218\n",
      " 0.44010928 0.44168112 0.44323835 0.44478288]\n",
      "20 day output [[0.44631678]]\n",
      "21 day input [0.43023545 0.43789041 0.43409607 0.44564479 0.44552881 0.44421984\n",
      " 0.43948105 0.43764187 0.44229781 0.45658045 0.44045864 0.44097228\n",
      " 0.44079002 0.43863602 0.43687969 0.43190894 0.42037678 0.42306099\n",
      " 0.41109804 0.40046062 0.39108246 0.39179494 0.40534853 0.41267211\n",
      " 0.41575398 0.40775106 0.40839726 0.41408049 0.41989628 0.4211721\n",
      " 0.42562921 0.42253078 0.41893526 0.43099763 0.42508243 0.4114957\n",
      " 0.4020347  0.39394893 0.39204348 0.37295578 0.36881348 0.37766143\n",
      " 0.37661757 0.36715656 0.35385151 0.30187397 0.31493049 0.2849237\n",
      " 0.29894123 0.26924925 0.2666976  0.25360794 0.23677365 0.26999486\n",
      " 0.22562259 0.24529021 0.29130283 0.28598413 0.2857853  0.27413716\n",
      " 0.30174142 0.29070634 0.28971219 0.33234471 0.3277219  0.33693437\n",
      " 0.32672775 0.31370437 0.31973556 0.33827647 0.34483787 0.34270045\n",
      " 0.38453764 0.38695674 0.40223353 0.40645867 0.40592845 0.40553079\n",
      " 0.41847133 0.39222172 0.40040264 0.40715465 0.41252002 0.41671091\n",
      " 0.4199982  0.42264268 0.42486134 0.42681667 0.42861953 0.43033931\n",
      " 0.43201497 0.43366593 0.43529978 0.43691853 0.4385218  0.44010928\n",
      " 0.44168112 0.44323835 0.44478288 0.44631678]\n",
      "21 day output [[0.4478424]]\n",
      "22 day input [0.43789041 0.43409607 0.44564479 0.44552881 0.44421984 0.43948105\n",
      " 0.43764187 0.44229781 0.45658045 0.44045864 0.44097228 0.44079002\n",
      " 0.43863602 0.43687969 0.43190894 0.42037678 0.42306099 0.41109804\n",
      " 0.40046062 0.39108246 0.39179494 0.40534853 0.41267211 0.41575398\n",
      " 0.40775106 0.40839726 0.41408049 0.41989628 0.4211721  0.42562921\n",
      " 0.42253078 0.41893526 0.43099763 0.42508243 0.4114957  0.4020347\n",
      " 0.39394893 0.39204348 0.37295578 0.36881348 0.37766143 0.37661757\n",
      " 0.36715656 0.35385151 0.30187397 0.31493049 0.2849237  0.29894123\n",
      " 0.26924925 0.2666976  0.25360794 0.23677365 0.26999486 0.22562259\n",
      " 0.24529021 0.29130283 0.28598413 0.2857853  0.27413716 0.30174142\n",
      " 0.29070634 0.28971219 0.33234471 0.3277219  0.33693437 0.32672775\n",
      " 0.31370437 0.31973556 0.33827647 0.34483787 0.34270045 0.38453764\n",
      " 0.38695674 0.40223353 0.40645867 0.40592845 0.40553079 0.41847133\n",
      " 0.39222172 0.40040264 0.40715465 0.41252002 0.41671091 0.4199982\n",
      " 0.42264268 0.42486134 0.42681667 0.42861953 0.43033931 0.43201497\n",
      " 0.43366593 0.43529978 0.43691853 0.4385218  0.44010928 0.44168112\n",
      " 0.44323835 0.44478288 0.44631678 0.44784239]\n",
      "22 day output [[0.44936183]]\n",
      "23 day input [0.43409607 0.44564479 0.44552881 0.44421984 0.43948105 0.43764187\n",
      " 0.44229781 0.45658045 0.44045864 0.44097228 0.44079002 0.43863602\n",
      " 0.43687969 0.43190894 0.42037678 0.42306099 0.41109804 0.40046062\n",
      " 0.39108246 0.39179494 0.40534853 0.41267211 0.41575398 0.40775106\n",
      " 0.40839726 0.41408049 0.41989628 0.4211721  0.42562921 0.42253078\n",
      " 0.41893526 0.43099763 0.42508243 0.4114957  0.4020347  0.39394893\n",
      " 0.39204348 0.37295578 0.36881348 0.37766143 0.37661757 0.36715656\n",
      " 0.35385151 0.30187397 0.31493049 0.2849237  0.29894123 0.26924925\n",
      " 0.2666976  0.25360794 0.23677365 0.26999486 0.22562259 0.24529021\n",
      " 0.29130283 0.28598413 0.2857853  0.27413716 0.30174142 0.29070634\n",
      " 0.28971219 0.33234471 0.3277219  0.33693437 0.32672775 0.31370437\n",
      " 0.31973556 0.33827647 0.34483787 0.34270045 0.38453764 0.38695674\n",
      " 0.40223353 0.40645867 0.40592845 0.40553079 0.41847133 0.39222172\n",
      " 0.40040264 0.40715465 0.41252002 0.41671091 0.4199982  0.42264268\n",
      " 0.42486134 0.42681667 0.42861953 0.43033931 0.43201497 0.43366593\n",
      " 0.43529978 0.43691853 0.4385218  0.44010928 0.44168112 0.44323835\n",
      " 0.44478288 0.44631678 0.44784239 0.44936183]\n",
      "23 day output [[0.45087713]]\n",
      "24 day input [0.44564479 0.44552881 0.44421984 0.43948105 0.43764187 0.44229781\n",
      " 0.45658045 0.44045864 0.44097228 0.44079002 0.43863602 0.43687969\n",
      " 0.43190894 0.42037678 0.42306099 0.41109804 0.40046062 0.39108246\n",
      " 0.39179494 0.40534853 0.41267211 0.41575398 0.40775106 0.40839726\n",
      " 0.41408049 0.41989628 0.4211721  0.42562921 0.42253078 0.41893526\n",
      " 0.43099763 0.42508243 0.4114957  0.4020347  0.39394893 0.39204348\n",
      " 0.37295578 0.36881348 0.37766143 0.37661757 0.36715656 0.35385151\n",
      " 0.30187397 0.31493049 0.2849237  0.29894123 0.26924925 0.2666976\n",
      " 0.25360794 0.23677365 0.26999486 0.22562259 0.24529021 0.29130283\n",
      " 0.28598413 0.2857853  0.27413716 0.30174142 0.29070634 0.28971219\n",
      " 0.33234471 0.3277219  0.33693437 0.32672775 0.31370437 0.31973556\n",
      " 0.33827647 0.34483787 0.34270045 0.38453764 0.38695674 0.40223353\n",
      " 0.40645867 0.40592845 0.40553079 0.41847133 0.39222172 0.40040264\n",
      " 0.40715465 0.41252002 0.41671091 0.4199982  0.42264268 0.42486134\n",
      " 0.42681667 0.42861953 0.43033931 0.43201497 0.43366593 0.43529978\n",
      " 0.43691853 0.4385218  0.44010928 0.44168112 0.44323835 0.44478288\n",
      " 0.44631678 0.44784239 0.44936183 0.45087713]\n",
      "24 day output [[0.45238987]]\n",
      "25 day input [0.44552881 0.44421984 0.43948105 0.43764187 0.44229781 0.45658045\n",
      " 0.44045864 0.44097228 0.44079002 0.43863602 0.43687969 0.43190894\n",
      " 0.42037678 0.42306099 0.41109804 0.40046062 0.39108246 0.39179494\n",
      " 0.40534853 0.41267211 0.41575398 0.40775106 0.40839726 0.41408049\n",
      " 0.41989628 0.4211721  0.42562921 0.42253078 0.41893526 0.43099763\n",
      " 0.42508243 0.4114957  0.4020347  0.39394893 0.39204348 0.37295578\n",
      " 0.36881348 0.37766143 0.37661757 0.36715656 0.35385151 0.30187397\n",
      " 0.31493049 0.2849237  0.29894123 0.26924925 0.2666976  0.25360794\n",
      " 0.23677365 0.26999486 0.22562259 0.24529021 0.29130283 0.28598413\n",
      " 0.2857853  0.27413716 0.30174142 0.29070634 0.28971219 0.33234471\n",
      " 0.3277219  0.33693437 0.32672775 0.31370437 0.31973556 0.33827647\n",
      " 0.34483787 0.34270045 0.38453764 0.38695674 0.40223353 0.40645867\n",
      " 0.40592845 0.40553079 0.41847133 0.39222172 0.40040264 0.40715465\n",
      " 0.41252002 0.41671091 0.4199982  0.42264268 0.42486134 0.42681667\n",
      " 0.42861953 0.43033931 0.43201497 0.43366593 0.43529978 0.43691853\n",
      " 0.4385218  0.44010928 0.44168112 0.44323835 0.44478288 0.44631678\n",
      " 0.44784239 0.44936183 0.45087713 0.45238987]\n",
      "25 day output [[0.45390117]]\n",
      "26 day input [0.44421984 0.43948105 0.43764187 0.44229781 0.45658045 0.44045864\n",
      " 0.44097228 0.44079002 0.43863602 0.43687969 0.43190894 0.42037678\n",
      " 0.42306099 0.41109804 0.40046062 0.39108246 0.39179494 0.40534853\n",
      " 0.41267211 0.41575398 0.40775106 0.40839726 0.41408049 0.41989628\n",
      " 0.4211721  0.42562921 0.42253078 0.41893526 0.43099763 0.42508243\n",
      " 0.4114957  0.4020347  0.39394893 0.39204348 0.37295578 0.36881348\n",
      " 0.37766143 0.37661757 0.36715656 0.35385151 0.30187397 0.31493049\n",
      " 0.2849237  0.29894123 0.26924925 0.2666976  0.25360794 0.23677365\n",
      " 0.26999486 0.22562259 0.24529021 0.29130283 0.28598413 0.2857853\n",
      " 0.27413716 0.30174142 0.29070634 0.28971219 0.33234471 0.3277219\n",
      " 0.33693437 0.32672775 0.31370437 0.31973556 0.33827647 0.34483787\n",
      " 0.34270045 0.38453764 0.38695674 0.40223353 0.40645867 0.40592845\n",
      " 0.40553079 0.41847133 0.39222172 0.40040264 0.40715465 0.41252002\n",
      " 0.41671091 0.4199982  0.42264268 0.42486134 0.42681667 0.42861953\n",
      " 0.43033931 0.43201497 0.43366593 0.43529978 0.43691853 0.4385218\n",
      " 0.44010928 0.44168112 0.44323835 0.44478288 0.44631678 0.44784239\n",
      " 0.44936183 0.45087713 0.45238987 0.45390117]\n"
     ]
    },
    {
     "name": "stdout",
     "output_type": "stream",
     "text": [
      "26 day output [[0.4554121]]\n",
      "27 day input [0.43948105 0.43764187 0.44229781 0.45658045 0.44045864 0.44097228\n",
      " 0.44079002 0.43863602 0.43687969 0.43190894 0.42037678 0.42306099\n",
      " 0.41109804 0.40046062 0.39108246 0.39179494 0.40534853 0.41267211\n",
      " 0.41575398 0.40775106 0.40839726 0.41408049 0.41989628 0.4211721\n",
      " 0.42562921 0.42253078 0.41893526 0.43099763 0.42508243 0.4114957\n",
      " 0.4020347  0.39394893 0.39204348 0.37295578 0.36881348 0.37766143\n",
      " 0.37661757 0.36715656 0.35385151 0.30187397 0.31493049 0.2849237\n",
      " 0.29894123 0.26924925 0.2666976  0.25360794 0.23677365 0.26999486\n",
      " 0.22562259 0.24529021 0.29130283 0.28598413 0.2857853  0.27413716\n",
      " 0.30174142 0.29070634 0.28971219 0.33234471 0.3277219  0.33693437\n",
      " 0.32672775 0.31370437 0.31973556 0.33827647 0.34483787 0.34270045\n",
      " 0.38453764 0.38695674 0.40223353 0.40645867 0.40592845 0.40553079\n",
      " 0.41847133 0.39222172 0.40040264 0.40715465 0.41252002 0.41671091\n",
      " 0.4199982  0.42264268 0.42486134 0.42681667 0.42861953 0.43033931\n",
      " 0.43201497 0.43366593 0.43529978 0.43691853 0.4385218  0.44010928\n",
      " 0.44168112 0.44323835 0.44478288 0.44631678 0.44784239 0.44936183\n",
      " 0.45087713 0.45238987 0.45390117 0.45541209]\n",
      "27 day output [[0.45692322]]\n",
      "28 day input [0.43764187 0.44229781 0.45658045 0.44045864 0.44097228 0.44079002\n",
      " 0.43863602 0.43687969 0.43190894 0.42037678 0.42306099 0.41109804\n",
      " 0.40046062 0.39108246 0.39179494 0.40534853 0.41267211 0.41575398\n",
      " 0.40775106 0.40839726 0.41408049 0.41989628 0.4211721  0.42562921\n",
      " 0.42253078 0.41893526 0.43099763 0.42508243 0.4114957  0.4020347\n",
      " 0.39394893 0.39204348 0.37295578 0.36881348 0.37766143 0.37661757\n",
      " 0.36715656 0.35385151 0.30187397 0.31493049 0.2849237  0.29894123\n",
      " 0.26924925 0.2666976  0.25360794 0.23677365 0.26999486 0.22562259\n",
      " 0.24529021 0.29130283 0.28598413 0.2857853  0.27413716 0.30174142\n",
      " 0.29070634 0.28971219 0.33234471 0.3277219  0.33693437 0.32672775\n",
      " 0.31370437 0.31973556 0.33827647 0.34483787 0.34270045 0.38453764\n",
      " 0.38695674 0.40223353 0.40645867 0.40592845 0.40553079 0.41847133\n",
      " 0.39222172 0.40040264 0.40715465 0.41252002 0.41671091 0.4199982\n",
      " 0.42264268 0.42486134 0.42681667 0.42861953 0.43033931 0.43201497\n",
      " 0.43366593 0.43529978 0.43691853 0.4385218  0.44010928 0.44168112\n",
      " 0.44323835 0.44478288 0.44631678 0.44784239 0.44936183 0.45087713\n",
      " 0.45238987 0.45390117 0.45541209 0.45692322]\n",
      "28 day output [[0.45843488]]\n",
      "29 day input [0.44229781 0.45658045 0.44045864 0.44097228 0.44079002 0.43863602\n",
      " 0.43687969 0.43190894 0.42037678 0.42306099 0.41109804 0.40046062\n",
      " 0.39108246 0.39179494 0.40534853 0.41267211 0.41575398 0.40775106\n",
      " 0.40839726 0.41408049 0.41989628 0.4211721  0.42562921 0.42253078\n",
      " 0.41893526 0.43099763 0.42508243 0.4114957  0.4020347  0.39394893\n",
      " 0.39204348 0.37295578 0.36881348 0.37766143 0.37661757 0.36715656\n",
      " 0.35385151 0.30187397 0.31493049 0.2849237  0.29894123 0.26924925\n",
      " 0.2666976  0.25360794 0.23677365 0.26999486 0.22562259 0.24529021\n",
      " 0.29130283 0.28598413 0.2857853  0.27413716 0.30174142 0.29070634\n",
      " 0.28971219 0.33234471 0.3277219  0.33693437 0.32672775 0.31370437\n",
      " 0.31973556 0.33827647 0.34483787 0.34270045 0.38453764 0.38695674\n",
      " 0.40223353 0.40645867 0.40592845 0.40553079 0.41847133 0.39222172\n",
      " 0.40040264 0.40715465 0.41252002 0.41671091 0.4199982  0.42264268\n",
      " 0.42486134 0.42681667 0.42861953 0.43033931 0.43201497 0.43366593\n",
      " 0.43529978 0.43691853 0.4385218  0.44010928 0.44168112 0.44323835\n",
      " 0.44478288 0.44631678 0.44784239 0.44936183 0.45087713 0.45238987\n",
      " 0.45390117 0.45541209 0.45692322 0.45843488]\n",
      "29 day output [[0.45994738]]\n",
      "[[0.39222171902656555], [0.40040263533592224], [0.4071546494960785], [0.41252002120018005], [0.41671091318130493], [0.4199981987476349], [0.42264267802238464], [0.424861341714859], [0.4268166720867157], [0.42861953377723694], [0.4303393065929413], [0.43201497197151184], [0.433665931224823], [0.4352997839450836], [0.4369185268878937], [0.4385218024253845], [0.4401092827320099], [0.4416811168193817], [0.44323834776878357], [0.44478288292884827], [0.44631677865982056], [0.44784238934516907], [0.4493618309497833], [0.4508771300315857], [0.4523898661136627], [0.45390117168426514], [0.4554120898246765], [0.4569232165813446], [0.4584348797798157], [0.4599473774433136]]\n"
     ]
    }
   ],
   "source": [
    "# demonstrate prediction for next 10 days\n",
    "from numpy import array\n",
    "\n",
    "lst_output=[]\n",
    "n_steps=100\n",
    "i=0\n",
    "while(i<30):\n",
    "    \n",
    "    if(len(temp_input)>100):\n",
    "        #print(temp_input)\n",
    "        x_input=np.array(temp_input[1:])\n",
    "        print(\"{} day input {}\".format(i,x_input))\n",
    "        x_input=x_input.reshape(1,-1)\n",
    "        x_input = x_input.reshape((1, n_steps, 1))\n",
    "        #print(x_input)\n",
    "        yhat = model.predict(x_input, verbose=0)\n",
    "        print(\"{} day output {}\".format(i,yhat))\n",
    "        temp_input.extend(yhat[0].tolist())\n",
    "        temp_input=temp_input[1:]\n",
    "        #print(temp_input)\n",
    "        lst_output.extend(yhat.tolist())\n",
    "        i=i+1\n",
    "    else:\n",
    "        x_input = x_input.reshape((1, n_steps,1))\n",
    "        yhat = model.predict(x_input, verbose=0)\n",
    "        print(yhat[0])\n",
    "        temp_input.extend(yhat[0].tolist())\n",
    "        print(len(temp_input))\n",
    "        lst_output.extend(yhat.tolist())\n",
    "        i=i+1\n",
    "    \n",
    "\n",
    "print(lst_output)"
   ]
  },
  {
   "cell_type": "code",
   "execution_count": 34,
   "metadata": {},
   "outputs": [],
   "source": [
    "day_new=np.arange(1,101)\n",
    "day_pred=np.arange(101,131)"
   ]
  },
  {
   "cell_type": "code",
   "execution_count": 35,
   "metadata": {},
   "outputs": [
    {
     "data": {
      "text/plain": [
       "5059"
      ]
     },
     "execution_count": 35,
     "metadata": {},
     "output_type": "execute_result"
    }
   ],
   "source": [
    "len(df3)\n"
   ]
  },
  {
   "cell_type": "code",
   "execution_count": 36,
   "metadata": {},
   "outputs": [
    {
     "data": {
      "text/plain": [
       "[<matplotlib.lines.Line2D at 0x28cd11b6388>]"
      ]
     },
     "execution_count": 36,
     "metadata": {},
     "output_type": "execute_result"
    },
    {
     "data": {
      "image/png": "[encoded data removed]",
      "text/plain": [
       "<Figure size 432x288 with 1 Axes>"
      ]
     },
     "metadata": {
      "needs_background": "light"
     },
     "output_type": "display_data"
    }
   ],
   "source": [
    "plt.plot(day_new,scaler.inverse_transform(df3[4959:]))\n",
    "plt.plot(day_pred,scaler.inverse_transform(lst_output))"
   ]
  },
  {
   "cell_type": "code",
   "execution_count": null,
   "metadata": {},
   "outputs": [],
   "source": []
  }
 ],
 "metadata": {
  "kernelspec": {
   "display_name": "Python 3",
   "language": "python",
   "name": "python3"
  },
  "language_info": {
   "codemirror_mode": {
    "name": "ipython",
    "version": 3
   },
   "file_extension": ".py",
   "mimetype": "text/x-python",
   "name": "python",
   "nbconvert_exporter": "python",
   "pygments_lexer": "ipython3",
   "version": "3.7.4"
  }
 },
 "nbformat": 4,
 "nbformat_minor": 4
}
